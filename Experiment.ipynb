{
 "cells": [
  {
   "cell_type": "code",
   "execution_count": null,
   "metadata": {
    "collapsed": true
   },
   "outputs": [],
   "source": [
    "%matplotlib inline\n",
    "\n",
    "import matplotlib\n",
    "matplotlib.rcParams.update({'font.size': 16})\n",
    "import numpy as np\n",
    "import matplotlib.pyplot as plt\n",
    "from ipywidgets import interact, widgets, fixed\n",
    "\n",
    "size = (12,6)"
   ]
  },
  {
   "cell_type": "code",
   "execution_count": null,
   "metadata": {
    "collapsed": false
   },
   "outputs": [],
   "source": [
    "def logistic(r=1.0, N = 100, x0=0.2):\n",
    "    x = np.zeros(N)\n",
    "    x[0] = x0\n",
    "    for n in range(N-1):\n",
    "        x[n+1] = r * x[n] * (1. - x[n])\n",
    "    plt.figure(figsize=size)\n",
    "    ax1 = plt.subplot2grid((1,8), (0,0), colspan=7)\n",
    "    ax2 = plt.subplot2grid((1,8), (0,7), colspan=1)\n",
    "    \n",
    "    ax1.plot(x, '-ok', linewidth=2)\n",
    "    ax1.set_ylim(0,1)\n",
    "    n = int(round(N/5))\n",
    "    ax2.plot([0]*n,x[-n:],'or',markersize=10,alpha=0.1)\n",
    "    ax2.set_ylim(0,1)\n",
    "    ax2.axis('off')\n",
    "    ax1.set_xlabel('r'); ax1.set_ylabel('x')\n",
    "    \n",
    "interact(logistic,r=(0,4,0.01),N=(10,300,20),x0=(0.01,1,0.1));"
   ]
  },
  {
   "cell_type": "code",
   "execution_count": null,
   "metadata": {
    "collapsed": true
   },
   "outputs": [],
   "source": []
  }
 ],
 "metadata": {
  "kernelspec": {
   "display_name": "Python 2",
   "language": "python",
   "name": "python2"
  },
  "language_info": {
   "codemirror_mode": {
    "name": "ipython",
    "version": 2
   },
   "file_extension": ".py",
   "mimetype": "text/x-python",
   "name": "python",
   "nbconvert_exporter": "python",
   "pygments_lexer": "ipython2",
   "version": "2.7.9"
  },
  "widgets": {
   "state": {
    "0b9317489dae42a4983ccfc3d060a983": {
     "views": []
    },
    "1b77fa0ef74e49e5bfbbec50c00190c8": {
     "views": []
    },
    "229e1ec69dd649deaca4795e873bde95": {
     "views": []
    },
    "234c8cebf5b4412aaededca72a068c34": {
     "views": []
    },
    "267d48b5146c4d728c02408535f00175": {
     "views": []
    },
    "2a789ac3cc4447e0a09f80ba1af2555d": {
     "views": []
    },
    "2bb12851bc5a4cf2b81a0fadaec394e0": {
     "views": []
    },
    "37859b359dc64e12894a82791f9827c3": {
     "views": []
    },
    "3da91274321f4175b6a881d5894fda01": {
     "views": []
    },
    "3db98a33ec2f4739862e90ba33ae5b2b": {
     "views": []
    },
    "4101ff9539ce4dde8a9161215b4b1cb9": {
     "views": []
    },
    "42866d6cf4f64238bb4e5f9e16bed80b": {
     "views": []
    },
    "4bc7600f29124c2cbb03a8c25c28a0d5": {
     "views": []
    },
    "525aa252251b4b919d7de0c603efa392": {
     "views": []
    },
    "5688c21e2c0d4e93a35e862acf84de17": {
     "views": []
    },
    "57b7b3b7d3a24f44a35ca07310014ede": {
     "views": []
    },
    "667434ca4ca248f998213ba3b0ad64fb": {
     "views": []
    },
    "67c6666a439d4c98aa8111532f204ae3": {
     "views": []
    },
    "727ae79e242349e098f09b04a194d3ba": {
     "views": []
    },
    "924059557cc442208168d1c314b967e6": {
     "views": []
    },
    "93e36cb105f14cfd8ed42840d0cd95e8": {
     "views": []
    },
    "948fcabd2b5940f9861bb4187af51939": {
     "views": []
    },
    "9a2cd044802b41f5b74aebbe8edecd27": {
     "views": []
    },
    "9b994a137dfd40968f0f76de1cfbd6a6": {
     "views": []
    },
    "b9b8489e87c8451cadac184620de748b": {
     "views": []
    },
    "c23866aabdec4371b61c2deb44ee7f6d": {
     "views": []
    },
    "cd1009d47c474a6a9d4cd51a8fc962aa": {
     "views": []
    },
    "d867a07aca564dd882f78d251c0b0977": {
     "views": []
    },
    "da13f855a2db4fc2ab1f8fdae349fd3b": {
     "views": []
    },
    "df2e0a42fec74863a414000715c795e2": {
     "views": []
    },
    "ef607fd98e0d4c39a0c85d87ef453b4e": {
     "views": []
    },
    "f724aeb1a5624417a9079265f3bce709": {
     "views": []
    },
    "f8e97359d5f2493699168a09faab2630": {
     "views": []
    },
    "f98b224a54f24c11aa0a9656c1633203": {
     "views": []
    },
    "fae485fde0ab42cdab88e1960f08b068": {
     "views": []
    },
    "fc686821c9d74aa3a2ac8f700d000eab": {
     "views": []
    }
   },
   "version": "1.1.1"
  }
 },
 "nbformat": 4,
 "nbformat_minor": 0
}
